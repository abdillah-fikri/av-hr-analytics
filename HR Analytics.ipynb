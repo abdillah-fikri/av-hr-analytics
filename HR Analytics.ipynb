{
 "cells": [
  {
   "cell_type": "code",
   "execution_count": 1,
   "metadata": {
    "colab": {},
    "colab_type": "code",
    "executionInfo": {
     "elapsed": 1317,
     "status": "ok",
     "timestamp": 1600238275690,
     "user": {
      "displayName": "Abdillah Fikri",
      "photoUrl": "",
      "userId": "04470220666512949031"
     },
     "user_tz": -420
    },
    "id": "TbArW04SJ39R"
   },
   "outputs": [],
   "source": [
    "import pandas as pd \n",
    "import numpy as np \n",
    "import matplotlib.pyplot as plt \n",
    "import seaborn as sns \n",
    "sns.set(style='darkgrid', palette='muted')"
   ]
  },
  {
   "cell_type": "code",
   "execution_count": 2,
   "metadata": {
    "colab": {
     "base_uri": "https://localhost:8080/",
     "height": 204
    },
    "colab_type": "code",
    "executionInfo": {
     "elapsed": 4082,
     "status": "ok",
     "timestamp": 1600238278473,
     "user": {
      "displayName": "Abdillah Fikri",
      "photoUrl": "",
      "userId": "04470220666512949031"
     },
     "user_tz": -420
    },
    "id": "EUlk_yifP10z",
    "outputId": "d4aca1e5-42d3-4479-a383-8566478a9a27"
   },
   "outputs": [
    {
     "name": "stdout",
     "output_type": "stream",
     "text": [
      "Requirement already satisfied: seaborn in /usr/local/lib/python3.6/dist-packages (0.11.0)\n",
      "Requirement already satisfied: scipy>=1.0 in /usr/local/lib/python3.6/dist-packages (from seaborn) (1.4.1)\n",
      "Requirement already satisfied: numpy>=1.15 in /usr/local/lib/python3.6/dist-packages (from seaborn) (1.18.5)\n",
      "Requirement already satisfied: matplotlib>=2.2 in /usr/local/lib/python3.6/dist-packages (from seaborn) (3.2.2)\n",
      "Requirement already satisfied: pandas>=0.23 in /usr/local/lib/python3.6/dist-packages (from seaborn) (1.0.5)\n",
      "Requirement already satisfied: kiwisolver>=1.0.1 in /usr/local/lib/python3.6/dist-packages (from matplotlib>=2.2->seaborn) (1.2.0)\n",
      "Requirement already satisfied: cycler>=0.10 in /usr/local/lib/python3.6/dist-packages (from matplotlib>=2.2->seaborn) (0.10.0)\n",
      "Requirement already satisfied: python-dateutil>=2.1 in /usr/local/lib/python3.6/dist-packages (from matplotlib>=2.2->seaborn) (2.8.1)\n",
      "Requirement already satisfied: pyparsing!=2.0.4,!=2.1.2,!=2.1.6,>=2.0.1 in /usr/local/lib/python3.6/dist-packages (from matplotlib>=2.2->seaborn) (2.4.7)\n",
      "Requirement already satisfied: pytz>=2017.2 in /usr/local/lib/python3.6/dist-packages (from pandas>=0.23->seaborn) (2018.9)\n",
      "Requirement already satisfied: six in /usr/local/lib/python3.6/dist-packages (from cycler>=0.10->matplotlib>=2.2->seaborn) (1.15.0)\n"
     ]
    }
   ],
   "source": [
    "pip install seaborn"
   ]
  },
  {
   "cell_type": "code",
   "execution_count": 3,
   "metadata": {
    "colab": {
     "base_uri": "https://localhost:8080/",
     "height": 204
    },
    "colab_type": "code",
    "executionInfo": {
     "elapsed": 5978,
     "status": "ok",
     "timestamp": 1600238280386,
     "user": {
      "displayName": "Abdillah Fikri",
      "photoUrl": "",
      "userId": "04470220666512949031"
     },
     "user_tz": -420
    },
    "id": "JnqCNbNGQJD2",
    "outputId": "f269f04d-9c9a-4433-d8dc-6f23e49ea0f8"
   },
   "outputs": [
    {
     "name": "stdout",
     "output_type": "stream",
     "text": [
      "Requirement already satisfied: category_encoders in /usr/local/lib/python3.6/dist-packages (2.2.2)\n",
      "Requirement already satisfied: patsy>=0.5.1 in /usr/local/lib/python3.6/dist-packages (from category_encoders) (0.5.1)\n",
      "Requirement already satisfied: pandas>=0.21.1 in /usr/local/lib/python3.6/dist-packages (from category_encoders) (1.0.5)\n",
      "Requirement already satisfied: scikit-learn>=0.20.0 in /usr/local/lib/python3.6/dist-packages (from category_encoders) (0.22.2.post1)\n",
      "Requirement already satisfied: scipy>=1.0.0 in /usr/local/lib/python3.6/dist-packages (from category_encoders) (1.4.1)\n",
      "Requirement already satisfied: numpy>=1.14.0 in /usr/local/lib/python3.6/dist-packages (from category_encoders) (1.18.5)\n",
      "Requirement already satisfied: statsmodels>=0.9.0 in /usr/local/lib/python3.6/dist-packages (from category_encoders) (0.10.2)\n",
      "Requirement already satisfied: six in /usr/local/lib/python3.6/dist-packages (from patsy>=0.5.1->category_encoders) (1.15.0)\n",
      "Requirement already satisfied: pytz>=2017.2 in /usr/local/lib/python3.6/dist-packages (from pandas>=0.21.1->category_encoders) (2018.9)\n",
      "Requirement already satisfied: python-dateutil>=2.6.1 in /usr/local/lib/python3.6/dist-packages (from pandas>=0.21.1->category_encoders) (2.8.1)\n",
      "Requirement already satisfied: joblib>=0.11 in /usr/local/lib/python3.6/dist-packages (from scikit-learn>=0.20.0->category_encoders) (0.16.0)\n"
     ]
    }
   ],
   "source": [
    "pip install category_encoders"
   ]
  },
  {
   "cell_type": "code",
   "execution_count": 4,
   "metadata": {
    "colab": {},
    "colab_type": "code",
    "executionInfo": {
     "elapsed": 5963,
     "status": "ok",
     "timestamp": 1600238280387,
     "user": {
      "displayName": "Abdillah Fikri",
      "photoUrl": "",
      "userId": "04470220666512949031"
     },
     "user_tz": -420
    },
    "id": "zjkT3K2eJ39W"
   },
   "outputs": [],
   "source": [
    "train = pd.read_csv('train_LZdllcl.csv')\n",
    "test = pd.read_csv('test_2umaH9m.csv')"
   ]
  },
  {
   "cell_type": "code",
   "execution_count": 5,
   "metadata": {
    "colab": {
     "base_uri": "https://localhost:8080/",
     "height": 292
    },
    "colab_type": "code",
    "executionInfo": {
     "elapsed": 5950,
     "status": "ok",
     "timestamp": 1600238280388,
     "user": {
      "displayName": "Abdillah Fikri",
      "photoUrl": "",
      "userId": "04470220666512949031"
     },
     "user_tz": -420
    },
    "id": "Naz2sONsJ39a",
    "outputId": "d5c2057a-61d9-47fb-c379-b456c2e55e33"
   },
   "outputs": [
    {
     "data": {
      "text/html": [
       "<div>\n",
       "<style scoped>\n",
       "    .dataframe tbody tr th:only-of-type {\n",
       "        vertical-align: middle;\n",
       "    }\n",
       "\n",
       "    .dataframe tbody tr th {\n",
       "        vertical-align: top;\n",
       "    }\n",
       "\n",
       "    .dataframe thead th {\n",
       "        text-align: right;\n",
       "    }\n",
       "</style>\n",
       "<table border=\"1\" class=\"dataframe\">\n",
       "  <thead>\n",
       "    <tr style=\"text-align: right;\">\n",
       "      <th></th>\n",
       "      <th>employee_id</th>\n",
       "      <th>department</th>\n",
       "      <th>region</th>\n",
       "      <th>education</th>\n",
       "      <th>gender</th>\n",
       "      <th>recruitment_channel</th>\n",
       "      <th>no_of_trainings</th>\n",
       "      <th>age</th>\n",
       "      <th>previous_year_rating</th>\n",
       "      <th>length_of_service</th>\n",
       "      <th>KPIs_met &gt;80%</th>\n",
       "      <th>awards_won?</th>\n",
       "      <th>avg_training_score</th>\n",
       "      <th>is_promoted</th>\n",
       "    </tr>\n",
       "  </thead>\n",
       "  <tbody>\n",
       "    <tr>\n",
       "      <th>0</th>\n",
       "      <td>65438</td>\n",
       "      <td>Sales &amp; Marketing</td>\n",
       "      <td>region_7</td>\n",
       "      <td>Master's &amp; above</td>\n",
       "      <td>f</td>\n",
       "      <td>sourcing</td>\n",
       "      <td>1</td>\n",
       "      <td>35</td>\n",
       "      <td>5.0</td>\n",
       "      <td>8</td>\n",
       "      <td>1</td>\n",
       "      <td>0</td>\n",
       "      <td>49</td>\n",
       "      <td>0</td>\n",
       "    </tr>\n",
       "    <tr>\n",
       "      <th>1</th>\n",
       "      <td>65141</td>\n",
       "      <td>Operations</td>\n",
       "      <td>region_22</td>\n",
       "      <td>Bachelor's</td>\n",
       "      <td>m</td>\n",
       "      <td>other</td>\n",
       "      <td>1</td>\n",
       "      <td>30</td>\n",
       "      <td>5.0</td>\n",
       "      <td>4</td>\n",
       "      <td>0</td>\n",
       "      <td>0</td>\n",
       "      <td>60</td>\n",
       "      <td>0</td>\n",
       "    </tr>\n",
       "    <tr>\n",
       "      <th>2</th>\n",
       "      <td>7513</td>\n",
       "      <td>Sales &amp; Marketing</td>\n",
       "      <td>region_19</td>\n",
       "      <td>Bachelor's</td>\n",
       "      <td>m</td>\n",
       "      <td>sourcing</td>\n",
       "      <td>1</td>\n",
       "      <td>34</td>\n",
       "      <td>3.0</td>\n",
       "      <td>7</td>\n",
       "      <td>0</td>\n",
       "      <td>0</td>\n",
       "      <td>50</td>\n",
       "      <td>0</td>\n",
       "    </tr>\n",
       "    <tr>\n",
       "      <th>3</th>\n",
       "      <td>2542</td>\n",
       "      <td>Sales &amp; Marketing</td>\n",
       "      <td>region_23</td>\n",
       "      <td>Bachelor's</td>\n",
       "      <td>m</td>\n",
       "      <td>other</td>\n",
       "      <td>2</td>\n",
       "      <td>39</td>\n",
       "      <td>1.0</td>\n",
       "      <td>10</td>\n",
       "      <td>0</td>\n",
       "      <td>0</td>\n",
       "      <td>50</td>\n",
       "      <td>0</td>\n",
       "    </tr>\n",
       "    <tr>\n",
       "      <th>4</th>\n",
       "      <td>48945</td>\n",
       "      <td>Technology</td>\n",
       "      <td>region_26</td>\n",
       "      <td>Bachelor's</td>\n",
       "      <td>m</td>\n",
       "      <td>other</td>\n",
       "      <td>1</td>\n",
       "      <td>45</td>\n",
       "      <td>3.0</td>\n",
       "      <td>2</td>\n",
       "      <td>0</td>\n",
       "      <td>0</td>\n",
       "      <td>73</td>\n",
       "      <td>0</td>\n",
       "    </tr>\n",
       "  </tbody>\n",
       "</table>\n",
       "</div>"
      ],
      "text/plain": [
       "   employee_id         department  ... avg_training_score is_promoted\n",
       "0        65438  Sales & Marketing  ...                 49           0\n",
       "1        65141         Operations  ...                 60           0\n",
       "2         7513  Sales & Marketing  ...                 50           0\n",
       "3         2542  Sales & Marketing  ...                 50           0\n",
       "4        48945         Technology  ...                 73           0\n",
       "\n",
       "[5 rows x 14 columns]"
      ]
     },
     "execution_count": 5,
     "metadata": {
      "tags": []
     },
     "output_type": "execute_result"
    }
   ],
   "source": [
    "train.head()"
   ]
  },
  {
   "cell_type": "code",
   "execution_count": 6,
   "metadata": {
    "colab": {
     "base_uri": "https://localhost:8080/",
     "height": 34
    },
    "colab_type": "code",
    "executionInfo": {
     "elapsed": 5931,
     "status": "ok",
     "timestamp": 1600238280389,
     "user": {
      "displayName": "Abdillah Fikri",
      "photoUrl": "",
      "userId": "04470220666512949031"
     },
     "user_tz": -420
    },
    "id": "GN5JDGTAJ39f",
    "outputId": "779f0672-5a8e-4337-c9d4-8cbf58539ae3"
   },
   "outputs": [
    {
     "data": {
      "text/plain": [
       "((54808, 14), (23490, 13))"
      ]
     },
     "execution_count": 6,
     "metadata": {
      "tags": []
     },
     "output_type": "execute_result"
    }
   ],
   "source": [
    "train.shape, test.shape"
   ]
  },
  {
   "cell_type": "code",
   "execution_count": 7,
   "metadata": {
    "colab": {
     "base_uri": "https://localhost:8080/",
     "height": 374
    },
    "colab_type": "code",
    "executionInfo": {
     "elapsed": 5913,
     "status": "ok",
     "timestamp": 1600238280390,
     "user": {
      "displayName": "Abdillah Fikri",
      "photoUrl": "",
      "userId": "04470220666512949031"
     },
     "user_tz": -420
    },
    "id": "HmErnJDUJ39i",
    "outputId": "2f59e008-99b6-4836-a6c9-4b3c3b03031f",
    "tags": []
   },
   "outputs": [
    {
     "name": "stdout",
     "output_type": "stream",
     "text": [
      "<class 'pandas.core.frame.DataFrame'>\n",
      "RangeIndex: 54808 entries, 0 to 54807\n",
      "Data columns (total 14 columns):\n",
      " #   Column                Non-Null Count  Dtype  \n",
      "---  ------                --------------  -----  \n",
      " 0   employee_id           54808 non-null  int64  \n",
      " 1   department            54808 non-null  object \n",
      " 2   region                54808 non-null  object \n",
      " 3   education             52399 non-null  object \n",
      " 4   gender                54808 non-null  object \n",
      " 5   recruitment_channel   54808 non-null  object \n",
      " 6   no_of_trainings       54808 non-null  int64  \n",
      " 7   age                   54808 non-null  int64  \n",
      " 8   previous_year_rating  50684 non-null  float64\n",
      " 9   length_of_service     54808 non-null  int64  \n",
      " 10  KPIs_met >80%         54808 non-null  int64  \n",
      " 11  awards_won?           54808 non-null  int64  \n",
      " 12  avg_training_score    54808 non-null  int64  \n",
      " 13  is_promoted           54808 non-null  int64  \n",
      "dtypes: float64(1), int64(8), object(5)\n",
      "memory usage: 5.9+ MB\n"
     ]
    }
   ],
   "source": [
    "train.info()"
   ]
  },
  {
   "cell_type": "code",
   "execution_count": 8,
   "metadata": {
    "colab": {},
    "colab_type": "code",
    "executionInfo": {
     "elapsed": 5898,
     "status": "ok",
     "timestamp": 1600238280390,
     "user": {
      "displayName": "Abdillah Fikri",
      "photoUrl": "",
      "userId": "04470220666512949031"
     },
     "user_tz": -420
    },
    "id": "63GlwwwWJ39m"
   },
   "outputs": [],
   "source": [
    "num_cont = [col for col in train.columns if (train[col].dtype in ['int64', 'float64']) \n",
    "            and (train[col].nunique() > 10)\n",
    "            and (col not in ['employee_id', 'is_promoted'])]\n",
    "\n",
    "num_disc = [col for col in train.columns if (train[col].dtype in ['int64', 'float64']) \n",
    "            and (train[col].nunique() <= 10)\n",
    "            and (col not in ['employee_id', 'is_promoted'])]\n",
    "\n",
    "cat_cols = [col for col in train.columns if (train[col].dtype in ['object'])\n",
    "            and (col not in ['employee_id', 'is_promoted'])]\n",
    "target = ['is_promoted']"
   ]
  },
  {
   "cell_type": "code",
   "execution_count": 9,
   "metadata": {
    "colab": {
     "base_uri": "https://localhost:8080/",
     "height": 272
    },
    "colab_type": "code",
    "executionInfo": {
     "elapsed": 5882,
     "status": "ok",
     "timestamp": 1600238280391,
     "user": {
      "displayName": "Abdillah Fikri",
      "photoUrl": "",
      "userId": "04470220666512949031"
     },
     "user_tz": -420
    },
    "id": "dqw50_7oJ39q",
    "outputId": "56fa661c-78ea-4d17-a02e-edd9ed2f50e2"
   },
   "outputs": [
    {
     "data": {
      "text/plain": [
       "employee_id             0.000000\n",
       "department              0.000000\n",
       "region                  0.000000\n",
       "education               4.395344\n",
       "gender                  0.000000\n",
       "recruitment_channel     0.000000\n",
       "no_of_trainings         0.000000\n",
       "age                     0.000000\n",
       "previous_year_rating    7.524449\n",
       "length_of_service       0.000000\n",
       "KPIs_met >80%           0.000000\n",
       "awards_won?             0.000000\n",
       "avg_training_score      0.000000\n",
       "is_promoted             0.000000\n",
       "dtype: float64"
      ]
     },
     "execution_count": 9,
     "metadata": {
      "tags": []
     },
     "output_type": "execute_result"
    }
   ],
   "source": [
    "train.isna().sum()/train.shape[0]*100"
   ]
  },
  {
   "cell_type": "markdown",
   "metadata": {
    "colab_type": "text",
    "id": "URCLrTHDJ39u"
   },
   "source": [
    "# Data Undestanding"
   ]
  },
  {
   "cell_type": "markdown",
   "metadata": {
    "colab_type": "text",
    "id": "HkTBoB3NJ39u"
   },
   "source": [
    "## Target Distribution"
   ]
  },
  {
   "cell_type": "code",
   "execution_count": 10,
   "metadata": {
    "colab": {
     "base_uri": "https://localhost:8080/",
     "height": 356
    },
    "colab_type": "code",
    "executionInfo": {
     "elapsed": 5862,
     "status": "ok",
     "timestamp": 1600238280392,
     "user": {
      "displayName": "Abdillah Fikri",
      "photoUrl": "",
      "userId": "04470220666512949031"
     },
     "user_tz": -420
    },
    "id": "N-8Ded71J39v",
    "outputId": "1eb6920a-2eeb-4ace-af1d-0f93f78b6264"
   },
   "outputs": [
    {
     "name": "stderr",
     "output_type": "stream",
     "text": [
      "/usr/local/lib/python3.6/dist-packages/seaborn/_decorators.py:43: FutureWarning: Pass the following variable as a keyword arg: x. From version 0.12, the only valid positional argument will be `data`, and passing other arguments without an explicit keyword will result in an error or misinterpretation.\n",
      "  FutureWarning\n"
     ]
    },
    {
     "data": {
      "text/plain": [
       "<matplotlib.axes._subplots.AxesSubplot at 0x7fd37f6b0a90>"
      ]
     },
     "execution_count": 10,
     "metadata": {
      "tags": []
     },
     "output_type": "execute_result"
    },
    {
     "data": {
      "image/png": "[encoded data removed]",
      "text/plain": [
       "<Figure size 432x288 with 1 Axes>"
      ]
     },
     "metadata": {
      "needs_background": "light",
      "tags": []
     },
     "output_type": "display_data"
    }
   ],
   "source": [
    "sns.countplot(train[target[0]])"
   ]
  },
  {
   "cell_type": "markdown",
   "metadata": {
    "colab_type": "text",
    "id": "23ycsFOgJ39y"
   },
   "source": [
    "## Numerical Features Distribution"
   ]
  },
  {
   "cell_type": "code",
   "execution_count": 11,
   "metadata": {
    "colab": {
     "base_uri": "https://localhost:8080/",
     "height": 279
    },
    "colab_type": "code",
    "executionInfo": {
     "elapsed": 7898,
     "status": "ok",
     "timestamp": 1600238282448,
     "user": {
      "displayName": "Abdillah Fikri",
      "photoUrl": "",
      "userId": "04470220666512949031"
     },
     "user_tz": -420
    },
    "id": "TFs7RTK5J39z",
    "outputId": "62419ae6-5999-4a19-91e2-79339cf2169a"
   },
   "outputs": [
    {
     "data": {
      "image/png": "[encoded data removed]",
      "text/plain": [
       "<Figure size 1440x288 with 3 Axes>"
      ]
     },
     "metadata": {
      "needs_background": "light",
      "tags": []
     },
     "output_type": "display_data"
    }
   ],
   "source": [
    "plt.figure(figsize=(20,4))\n",
    "for i, col in enumerate(num_cont):\n",
    "    plt.subplot(1,3,i+1)\n",
    "    sns.histplot(train[col])\n",
    "plt.tight_layout(pad=2.0)"
   ]
  },
  {
   "cell_type": "code",
   "execution_count": 12,
   "metadata": {
    "colab": {
     "base_uri": "https://localhost:8080/",
     "height": 401
    },
    "colab_type": "code",
    "executionInfo": {
     "elapsed": 8577,
     "status": "ok",
     "timestamp": 1600238283145,
     "user": {
      "displayName": "Abdillah Fikri",
      "photoUrl": "",
      "userId": "04470220666512949031"
     },
     "user_tz": -420
    },
    "id": "FAiNdXuHJ392",
    "outputId": "72a0c7c6-1b68-41fe-811c-6ea3a8eb4095"
   },
   "outputs": [
    {
     "name": "stderr",
     "output_type": "stream",
     "text": [
      "/usr/local/lib/python3.6/dist-packages/seaborn/_decorators.py:43: FutureWarning: Pass the following variable as a keyword arg: x. From version 0.12, the only valid positional argument will be `data`, and passing other arguments without an explicit keyword will result in an error or misinterpretation.\n",
      "  FutureWarning\n",
      "/usr/local/lib/python3.6/dist-packages/seaborn/_decorators.py:43: FutureWarning: Pass the following variable as a keyword arg: x. From version 0.12, the only valid positional argument will be `data`, and passing other arguments without an explicit keyword will result in an error or misinterpretation.\n",
      "  FutureWarning\n",
      "/usr/local/lib/python3.6/dist-packages/seaborn/_decorators.py:43: FutureWarning: Pass the following variable as a keyword arg: x. From version 0.12, the only valid positional argument will be `data`, and passing other arguments without an explicit keyword will result in an error or misinterpretation.\n",
      "  FutureWarning\n"
     ]
    },
    {
     "data": {
      "image/png": "[encoded data removed]",
      "text/plain": [
       "<Figure size 1440x288 with 3 Axes>"
      ]
     },
     "metadata": {
      "needs_background": "light",
      "tags": []
     },
     "output_type": "display_data"
    }
   ],
   "source": [
    "plt.figure(figsize=(20,4))\n",
    "for i, col in enumerate(num_cont):\n",
    "    plt.subplot(1,3,i+1)\n",
    "    sns.boxplot(train[col])\n",
    "plt.tight_layout(pad=2.0)"
   ]
  },
  {
   "cell_type": "code",
   "execution_count": 13,
   "metadata": {
    "colab": {
     "base_uri": "https://localhost:8080/",
     "height": 435
    },
    "colab_type": "code",
    "executionInfo": {
     "elapsed": 9141,
     "status": "ok",
     "timestamp": 1600238283729,
     "user": {
      "displayName": "Abdillah Fikri",
      "photoUrl": "",
      "userId": "04470220666512949031"
     },
     "user_tz": -420
    },
    "id": "VnyyR2GjJ396",
    "outputId": "ca7273d4-4b4f-44c3-cd9a-8dcac6d30a28"
   },
   "outputs": [
    {
     "name": "stderr",
     "output_type": "stream",
     "text": [
      "/usr/local/lib/python3.6/dist-packages/seaborn/_decorators.py:43: FutureWarning: Pass the following variable as a keyword arg: x. From version 0.12, the only valid positional argument will be `data`, and passing other arguments without an explicit keyword will result in an error or misinterpretation.\n",
      "  FutureWarning\n",
      "/usr/local/lib/python3.6/dist-packages/seaborn/_decorators.py:43: FutureWarning: Pass the following variable as a keyword arg: x. From version 0.12, the only valid positional argument will be `data`, and passing other arguments without an explicit keyword will result in an error or misinterpretation.\n",
      "  FutureWarning\n",
      "/usr/local/lib/python3.6/dist-packages/seaborn/_decorators.py:43: FutureWarning: Pass the following variable as a keyword arg: x. From version 0.12, the only valid positional argument will be `data`, and passing other arguments without an explicit keyword will result in an error or misinterpretation.\n",
      "  FutureWarning\n",
      "/usr/local/lib/python3.6/dist-packages/seaborn/_decorators.py:43: FutureWarning: Pass the following variable as a keyword arg: x. From version 0.12, the only valid positional argument will be `data`, and passing other arguments without an explicit keyword will result in an error or misinterpretation.\n",
      "  FutureWarning\n"
     ]
    },
    {
     "data": {
      "image/png": "[encoded data removed]",
      "text/plain": [
       "<Figure size 1440x288 with 4 Axes>"
      ]
     },
     "metadata": {
      "needs_background": "light",
      "tags": []
     },
     "output_type": "display_data"
    }
   ],
   "source": [
    "plt.figure(figsize=(20,4))\n",
    "for i, col in enumerate(num_disc):\n",
    "    plt.subplot(1,4,i+1)\n",
    "    sns.countplot(train[col])\n",
    "plt.tight_layout(pad=2.0)"
   ]
  },
  {
   "cell_type": "markdown",
   "metadata": {
    "colab_type": "text",
    "id": "QoqLaWRzJ399"
   },
   "source": [
    "## Categorical Features Distribution"
   ]
  },
  {
   "cell_type": "code",
   "execution_count": 14,
   "metadata": {
    "colab": {
     "base_uri": "https://localhost:8080/",
     "height": 34
    },
    "colab_type": "code",
    "executionInfo": {
     "elapsed": 9127,
     "status": "ok",
     "timestamp": 1600238283732,
     "user": {
      "displayName": "Abdillah Fikri",
      "photoUrl": "",
      "userId": "04470220666512949031"
     },
     "user_tz": -420
    },
    "id": "zB-oFGclJ39-",
    "outputId": "c4a98320-4bae-4b31-b773-1c0d2ed95aaf"
   },
   "outputs": [
    {
     "data": {
      "text/plain": [
       "5"
      ]
     },
     "execution_count": 14,
     "metadata": {
      "tags": []
     },
     "output_type": "execute_result"
    }
   ],
   "source": [
    "len(cat_cols)"
   ]
  },
  {
   "cell_type": "code",
   "execution_count": 15,
   "metadata": {
    "colab": {
     "base_uri": "https://localhost:8080/",
     "height": 587
    },
    "colab_type": "code",
    "executionInfo": {
     "elapsed": 11312,
     "status": "ok",
     "timestamp": 1600238285937,
     "user": {
      "displayName": "Abdillah Fikri",
      "photoUrl": "",
      "userId": "04470220666512949031"
     },
     "user_tz": -420
    },
    "id": "Se7fr7vdJ3-B",
    "outputId": "28c1721e-5cf0-45f7-b087-8da57fe563e4"
   },
   "outputs": [
    {
     "data": {
      "image/png": "[encoded data removed]",
      "text/plain": [
       "<Figure size 1440x576 with 5 Axes>"
      ]
     },
     "metadata": {
      "needs_background": "light",
      "tags": []
     },
     "output_type": "display_data"
    }
   ],
   "source": [
    "plt.figure(figsize=(20,8))\n",
    "for i, col in enumerate(cat_cols):\n",
    "    plt.subplot(2,3,i+1)\n",
    "    sns.countplot(data=train, x=col)\n",
    "    if col in ['department', 'region']:\n",
    "        plt.xticks(rotation=90)\n",
    "plt.tight_layout(pad=1.0)"
   ]
  },
  {
   "cell_type": "markdown",
   "metadata": {
    "colab_type": "text",
    "id": "d4UpkbtdJ3-F"
   },
   "source": [
    "## Bivariate Analysis"
   ]
  },
  {
   "cell_type": "code",
   "execution_count": 16,
   "metadata": {
    "colab": {
     "base_uri": "https://localhost:8080/",
     "height": 297
    },
    "colab_type": "code",
    "executionInfo": {
     "elapsed": 11297,
     "status": "ok",
     "timestamp": 1600238285940,
     "user": {
      "displayName": "Abdillah Fikri",
      "photoUrl": "",
      "userId": "04470220666512949031"
     },
     "user_tz": -420
    },
    "id": "ohE8Rp6oJ3-F",
    "outputId": "ccbaefec-4c3f-488c-f0ed-365640c28122"
   },
   "outputs": [
    {
     "data": {
      "text/html": [
       "<div>\n",
       "<style scoped>\n",
       "    .dataframe tbody tr th:only-of-type {\n",
       "        vertical-align: middle;\n",
       "    }\n",
       "\n",
       "    .dataframe tbody tr th {\n",
       "        vertical-align: top;\n",
       "    }\n",
       "\n",
       "    .dataframe thead th {\n",
       "        text-align: right;\n",
       "    }\n",
       "</style>\n",
       "<table border=\"1\" class=\"dataframe\">\n",
       "  <thead>\n",
       "    <tr style=\"text-align: right;\">\n",
       "      <th></th>\n",
       "      <th>age</th>\n",
       "      <th>length_of_service</th>\n",
       "      <th>avg_training_score</th>\n",
       "      <th>no_of_trainings</th>\n",
       "      <th>previous_year_rating</th>\n",
       "      <th>KPIs_met &gt;80%</th>\n",
       "      <th>awards_won?</th>\n",
       "      <th>is_promoted</th>\n",
       "    </tr>\n",
       "  </thead>\n",
       "  <tbody>\n",
       "    <tr>\n",
       "      <th>age</th>\n",
       "      <td>1.000000</td>\n",
       "      <td>0.657111</td>\n",
       "      <td>-0.048380</td>\n",
       "      <td>-0.081278</td>\n",
       "      <td>0.006008</td>\n",
       "      <td>-0.025592</td>\n",
       "      <td>-0.008169</td>\n",
       "      <td>-0.017166</td>\n",
       "    </tr>\n",
       "    <tr>\n",
       "      <th>length_of_service</th>\n",
       "      <td>0.657111</td>\n",
       "      <td>1.000000</td>\n",
       "      <td>-0.038122</td>\n",
       "      <td>-0.057275</td>\n",
       "      <td>0.000253</td>\n",
       "      <td>-0.077693</td>\n",
       "      <td>-0.039927</td>\n",
       "      <td>-0.010670</td>\n",
       "    </tr>\n",
       "    <tr>\n",
       "      <th>avg_training_score</th>\n",
       "      <td>-0.048380</td>\n",
       "      <td>-0.038122</td>\n",
       "      <td>1.000000</td>\n",
       "      <td>0.042517</td>\n",
       "      <td>0.075139</td>\n",
       "      <td>0.078391</td>\n",
       "      <td>0.072138</td>\n",
       "      <td>0.181147</td>\n",
       "    </tr>\n",
       "    <tr>\n",
       "      <th>no_of_trainings</th>\n",
       "      <td>-0.081278</td>\n",
       "      <td>-0.057275</td>\n",
       "      <td>0.042517</td>\n",
       "      <td>1.000000</td>\n",
       "      <td>-0.063126</td>\n",
       "      <td>-0.045576</td>\n",
       "      <td>-0.007628</td>\n",
       "      <td>-0.024896</td>\n",
       "    </tr>\n",
       "    <tr>\n",
       "      <th>previous_year_rating</th>\n",
       "      <td>0.006008</td>\n",
       "      <td>0.000253</td>\n",
       "      <td>0.075139</td>\n",
       "      <td>-0.063126</td>\n",
       "      <td>1.000000</td>\n",
       "      <td>0.351578</td>\n",
       "      <td>0.027738</td>\n",
       "      <td>0.159320</td>\n",
       "    </tr>\n",
       "    <tr>\n",
       "      <th>KPIs_met &gt;80%</th>\n",
       "      <td>-0.025592</td>\n",
       "      <td>-0.077693</td>\n",
       "      <td>0.078391</td>\n",
       "      <td>-0.045576</td>\n",
       "      <td>0.351578</td>\n",
       "      <td>1.000000</td>\n",
       "      <td>0.097000</td>\n",
       "      <td>0.221582</td>\n",
       "    </tr>\n",
       "    <tr>\n",
       "      <th>awards_won?</th>\n",
       "      <td>-0.008169</td>\n",
       "      <td>-0.039927</td>\n",
       "      <td>0.072138</td>\n",
       "      <td>-0.007628</td>\n",
       "      <td>0.027738</td>\n",
       "      <td>0.097000</td>\n",
       "      <td>1.000000</td>\n",
       "      <td>0.195871</td>\n",
       "    </tr>\n",
       "    <tr>\n",
       "      <th>is_promoted</th>\n",
       "      <td>-0.017166</td>\n",
       "      <td>-0.010670</td>\n",
       "      <td>0.181147</td>\n",
       "      <td>-0.024896</td>\n",
       "      <td>0.159320</td>\n",
       "      <td>0.221582</td>\n",
       "      <td>0.195871</td>\n",
       "      <td>1.000000</td>\n",
       "    </tr>\n",
       "  </tbody>\n",
       "</table>\n",
       "</div>"
      ],
      "text/plain": [
       "                           age  length_of_service  ...  awards_won?  is_promoted\n",
       "age                   1.000000           0.657111  ...    -0.008169    -0.017166\n",
       "length_of_service     0.657111           1.000000  ...    -0.039927    -0.010670\n",
       "avg_training_score   -0.048380          -0.038122  ...     0.072138     0.181147\n",
       "no_of_trainings      -0.081278          -0.057275  ...    -0.007628    -0.024896\n",
       "previous_year_rating  0.006008           0.000253  ...     0.027738     0.159320\n",
       "KPIs_met >80%        -0.025592          -0.077693  ...     0.097000     0.221582\n",
       "awards_won?          -0.008169          -0.039927  ...     1.000000     0.195871\n",
       "is_promoted          -0.017166          -0.010670  ...     0.195871     1.000000\n",
       "\n",
       "[8 rows x 8 columns]"
      ]
     },
     "execution_count": 16,
     "metadata": {
      "tags": []
     },
     "output_type": "execute_result"
    }
   ],
   "source": [
    "corr = train[num_cont + num_disc + target].corr()\n",
    "corr"
   ]
  },
  {
   "cell_type": "code",
   "execution_count": 17,
   "metadata": {
    "colab": {
     "base_uri": "https://localhost:8080/",
     "height": 612
    },
    "colab_type": "code",
    "executionInfo": {
     "elapsed": 11280,
     "status": "ok",
     "timestamp": 1600238285941,
     "user": {
      "displayName": "Abdillah Fikri",
      "photoUrl": "",
      "userId": "04470220666512949031"
     },
     "user_tz": -420
    },
    "id": "Fm62ZrgTJ3-I",
    "outputId": "bc4f3fa3-1467-4d9a-a251-dc8d3ac1125a"
   },
   "outputs": [
    {
     "data": {
      "text/plain": [
       "<matplotlib.axes._subplots.AxesSubplot at 0x7fd37f928400>"
      ]
     },
     "execution_count": 17,
     "metadata": {
      "tags": []
     },
     "output_type": "execute_result"
    },
    {
     "data": {
      "image/png": "[encoded data removed]",
      "text/plain": [
       "<Figure size 720x576 with 2 Axes>"
      ]
     },
     "metadata": {
      "needs_background": "light",
      "tags": []
     },
     "output_type": "display_data"
    }
   ],
   "source": [
    "plt.figure(figsize=(10,8))\n",
    "sns.heatmap(corr , annot=True, linewidths=.5, fmt= '.2f')"
   ]
  },
  {
   "cell_type": "code",
   "execution_count": 18,
   "metadata": {
    "colab": {
     "base_uri": "https://localhost:8080/",
     "height": 351
    },
    "colab_type": "code",
    "executionInfo": {
     "elapsed": 12325,
     "status": "ok",
     "timestamp": 1600238287006,
     "user": {
      "displayName": "Abdillah Fikri",
      "photoUrl": "",
      "userId": "04470220666512949031"
     },
     "user_tz": -420
    },
    "id": "UB8nv4syJ3-L",
    "outputId": "75883beb-b757-4517-a954-4458cfe2c0c9"
   },
   "outputs": [
    {
     "data": {
      "image/png": "[encoded data removed]",
      "text/plain": [
       "<Figure size 720x360 with 3 Axes>"
      ]
     },
     "metadata": {
      "needs_background": "light",
      "tags": []
     },
     "output_type": "display_data"
    }
   ],
   "source": [
    "plt.figure(figsize=(10,5))\n",
    "for i, col in enumerate(num_cont):\n",
    "    plt.subplot(1,3,i+1)\n",
    "    sns.boxplot(data=train, x=target[0], y=col)\n",
    "plt.tight_layout(pad=2.0)"
   ]
  },
  {
   "cell_type": "code",
   "execution_count": 19,
   "metadata": {
    "colab": {
     "base_uri": "https://localhost:8080/",
     "height": 455
    },
    "colab_type": "code",
    "executionInfo": {
     "elapsed": 12311,
     "status": "ok",
     "timestamp": 1600238287009,
     "user": {
      "displayName": "Abdillah Fikri",
      "photoUrl": "",
      "userId": "04470220666512949031"
     },
     "user_tz": -420
    },
    "id": "F-lOeOMhJ3-O",
    "outputId": "74b3f832-5dfc-42c6-8487-d60c58e5750e"
   },
   "outputs": [
    {
     "name": "stderr",
     "output_type": "stream",
     "text": [
      "/usr/local/lib/python3.6/dist-packages/seaborn/_decorators.py:43: FutureWarning: Pass the following variable as a keyword arg: x. From version 0.12, the only valid positional argument will be `data`, and passing other arguments without an explicit keyword will result in an error or misinterpretation.\n",
      "  FutureWarning\n",
      "/usr/local/lib/python3.6/dist-packages/seaborn/_decorators.py:43: FutureWarning: Pass the following variable as a keyword arg: x. From version 0.12, the only valid positional argument will be `data`, and passing other arguments without an explicit keyword will result in an error or misinterpretation.\n",
      "  FutureWarning\n",
      "/usr/local/lib/python3.6/dist-packages/seaborn/_decorators.py:43: FutureWarning: Pass the following variable as a keyword arg: x. From version 0.12, the only valid positional argument will be `data`, and passing other arguments without an explicit keyword will result in an error or misinterpretation.\n",
      "  FutureWarning\n",
      "/usr/local/lib/python3.6/dist-packages/seaborn/_decorators.py:43: FutureWarning: Pass the following variable as a keyword arg: x. From version 0.12, the only valid positional argument will be `data`, and passing other arguments without an explicit keyword will result in an error or misinterpretation.\n",
      "  FutureWarning\n"
     ]
    },
    {
     "data": {
      "image/png": "[encoded data removed]",
      "text/plain": [
       "<Figure size 1440x288 with 4 Axes>"
      ]
     },
     "metadata": {
      "needs_background": "light",
      "tags": []
     },
     "output_type": "display_data"
    }
   ],
   "source": [
    "plt.figure(figsize=(20,4))\n",
    "for i, col in enumerate(num_disc):\n",
    "    plt.subplot(1,4,i+1)\n",
    "    sns.countplot(train[col], hue=train[target[0]])\n",
    "plt.tight_layout(pad=1.0)"
   ]
  },
  {
   "cell_type": "code",
   "execution_count": 20,
   "metadata": {
    "colab": {
     "base_uri": "https://localhost:8080/",
     "height": 777
    },
    "colab_type": "code",
    "executionInfo": {
     "elapsed": 14471,
     "status": "ok",
     "timestamp": 1600238289187,
     "user": {
      "displayName": "Abdillah Fikri",
      "photoUrl": "",
      "userId": "04470220666512949031"
     },
     "user_tz": -420
    },
    "id": "-rcxB-hfJ3-S",
    "outputId": "9935db7f-3d19-4804-ad25-b44e279a525e"
   },
   "outputs": [
    {
     "name": "stderr",
     "output_type": "stream",
     "text": [
      "/usr/local/lib/python3.6/dist-packages/seaborn/_decorators.py:43: FutureWarning: Pass the following variable as a keyword arg: x. From version 0.12, the only valid positional argument will be `data`, and passing other arguments without an explicit keyword will result in an error or misinterpretation.\n",
      "  FutureWarning\n",
      "/usr/local/lib/python3.6/dist-packages/seaborn/_decorators.py:43: FutureWarning: Pass the following variable as a keyword arg: x. From version 0.12, the only valid positional argument will be `data`, and passing other arguments without an explicit keyword will result in an error or misinterpretation.\n",
      "  FutureWarning\n",
      "/usr/local/lib/python3.6/dist-packages/seaborn/_decorators.py:43: FutureWarning: Pass the following variable as a keyword arg: x. From version 0.12, the only valid positional argument will be `data`, and passing other arguments without an explicit keyword will result in an error or misinterpretation.\n",
      "  FutureWarning\n",
      "/usr/local/lib/python3.6/dist-packages/seaborn/_decorators.py:43: FutureWarning: Pass the following variable as a keyword arg: x. From version 0.12, the only valid positional argument will be `data`, and passing other arguments without an explicit keyword will result in an error or misinterpretation.\n",
      "  FutureWarning\n",
      "/usr/local/lib/python3.6/dist-packages/seaborn/_decorators.py:43: FutureWarning: Pass the following variable as a keyword arg: x. From version 0.12, the only valid positional argument will be `data`, and passing other arguments without an explicit keyword will result in an error or misinterpretation.\n",
      "  FutureWarning\n"
     ]
    },
    {
     "data": {
      "image/png": "[encoded data removed]",
      "text/plain": [
       "<Figure size 1440x576 with 5 Axes>"
      ]
     },
     "metadata": {
      "needs_background": "light",
      "tags": []
     },
     "output_type": "display_data"
    }
   ],
   "source": [
    "plt.figure(figsize=(20,8))\n",
    "for i, col in enumerate(cat_cols):\n",
    "    plt.subplot(2,3,i+1)\n",
    "    sns.countplot(train[col], hue=train[target[0]])\n",
    "    if col in ['department', 'region']:\n",
    "        plt.xticks(rotation=90)\n",
    "plt.tight_layout(pad=1.0)"
   ]
  },
  {
   "cell_type": "markdown",
   "metadata": {
    "colab_type": "text",
    "id": "kZIeaohjJ3-V"
   },
   "source": [
    "# Preprocessing"
   ]
  },
  {
   "cell_type": "code",
   "execution_count": 21,
   "metadata": {
    "colab": {},
    "colab_type": "code",
    "executionInfo": {
     "elapsed": 14460,
     "status": "ok",
     "timestamp": 1600238289188,
     "user": {
      "displayName": "Abdillah Fikri",
      "photoUrl": "",
      "userId": "04470220666512949031"
     },
     "user_tz": -420
    },
    "id": "1s7eM_qIJ3-V"
   },
   "outputs": [],
   "source": [
    "X = train.drop(columns=['employee_id', 'is_promoted'])\n",
    "y = train['is_promoted']\n",
    "X_test = test.drop(columns=['employee_id'])"
   ]
  },
  {
   "cell_type": "markdown",
   "metadata": {
    "colab_type": "text",
    "id": "-_CbGViAJ3-Y"
   },
   "source": [
    "## Missing Value"
   ]
  },
  {
   "cell_type": "code",
   "execution_count": 22,
   "metadata": {
    "colab": {},
    "colab_type": "code",
    "executionInfo": {
     "elapsed": 14450,
     "status": "ok",
     "timestamp": 1600238289189,
     "user": {
      "displayName": "Abdillah Fikri",
      "photoUrl": "",
      "userId": "04470220666512949031"
     },
     "user_tz": -420
    },
    "id": "ywX-ORqKJ3-Z"
   },
   "outputs": [],
   "source": [
    "from sklearn.impute import SimpleImputer"
   ]
  },
  {
   "cell_type": "code",
   "execution_count": 23,
   "metadata": {
    "colab": {
     "base_uri": "https://localhost:8080/",
     "height": 0
    },
    "colab_type": "code",
    "executionInfo": {
     "elapsed": 14442,
     "status": "ok",
     "timestamp": 1600238289190,
     "user": {
      "displayName": "Abdillah Fikri",
      "photoUrl": "",
      "userId": "04470220666512949031"
     },
     "user_tz": -420
    },
    "id": "xt-8cIF-J3-c",
    "outputId": "30988d0d-4f9d-4fb1-e32b-9ef3bf02689f"
   },
   "outputs": [
    {
     "data": {
      "text/html": [
       "<div>\n",
       "<style scoped>\n",
       "    .dataframe tbody tr th:only-of-type {\n",
       "        vertical-align: middle;\n",
       "    }\n",
       "\n",
       "    .dataframe tbody tr th {\n",
       "        vertical-align: top;\n",
       "    }\n",
       "\n",
       "    .dataframe thead th {\n",
       "        text-align: right;\n",
       "    }\n",
       "</style>\n",
       "<table border=\"1\" class=\"dataframe\">\n",
       "  <thead>\n",
       "    <tr style=\"text-align: right;\">\n",
       "      <th></th>\n",
       "      <th>NA Train</th>\n",
       "      <th>NA Test</th>\n",
       "    </tr>\n",
       "  </thead>\n",
       "  <tbody>\n",
       "    <tr>\n",
       "      <th>previous_year_rating</th>\n",
       "      <td>7.52</td>\n",
       "      <td>7.71</td>\n",
       "    </tr>\n",
       "    <tr>\n",
       "      <th>education</th>\n",
       "      <td>4.40</td>\n",
       "      <td>4.40</td>\n",
       "    </tr>\n",
       "    <tr>\n",
       "      <th>department</th>\n",
       "      <td>0.00</td>\n",
       "      <td>0.00</td>\n",
       "    </tr>\n",
       "    <tr>\n",
       "      <th>region</th>\n",
       "      <td>0.00</td>\n",
       "      <td>0.00</td>\n",
       "    </tr>\n",
       "    <tr>\n",
       "      <th>gender</th>\n",
       "      <td>0.00</td>\n",
       "      <td>0.00</td>\n",
       "    </tr>\n",
       "    <tr>\n",
       "      <th>recruitment_channel</th>\n",
       "      <td>0.00</td>\n",
       "      <td>0.00</td>\n",
       "    </tr>\n",
       "    <tr>\n",
       "      <th>no_of_trainings</th>\n",
       "      <td>0.00</td>\n",
       "      <td>0.00</td>\n",
       "    </tr>\n",
       "    <tr>\n",
       "      <th>age</th>\n",
       "      <td>0.00</td>\n",
       "      <td>0.00</td>\n",
       "    </tr>\n",
       "    <tr>\n",
       "      <th>length_of_service</th>\n",
       "      <td>0.00</td>\n",
       "      <td>0.00</td>\n",
       "    </tr>\n",
       "    <tr>\n",
       "      <th>KPIs_met &gt;80%</th>\n",
       "      <td>0.00</td>\n",
       "      <td>0.00</td>\n",
       "    </tr>\n",
       "    <tr>\n",
       "      <th>awards_won?</th>\n",
       "      <td>0.00</td>\n",
       "      <td>0.00</td>\n",
       "    </tr>\n",
       "    <tr>\n",
       "      <th>avg_training_score</th>\n",
       "      <td>0.00</td>\n",
       "      <td>0.00</td>\n",
       "    </tr>\n",
       "  </tbody>\n",
       "</table>\n",
       "</div>"
      ],
      "text/plain": [
       "                      NA Train  NA Test\n",
       "previous_year_rating      7.52     7.71\n",
       "education                 4.40     4.40\n",
       "department                0.00     0.00\n",
       "region                    0.00     0.00\n",
       "gender                    0.00     0.00\n",
       "recruitment_channel       0.00     0.00\n",
       "no_of_trainings           0.00     0.00\n",
       "age                       0.00     0.00\n",
       "length_of_service         0.00     0.00\n",
       "KPIs_met >80%             0.00     0.00\n",
       "awards_won?               0.00     0.00\n",
       "avg_training_score        0.00     0.00"
      ]
     },
     "execution_count": 23,
     "metadata": {
      "tags": []
     },
     "output_type": "execute_result"
    }
   ],
   "source": [
    "na_col = pd.DataFrame(X.isna().sum()) / X.shape[0]*100\n",
    "na_col.columns = ['NA Train']\n",
    "na_col['NA Test'] = X_test.isna().sum().values / X_test.shape[0]*100\n",
    "round(na_col.sort_values(by='NA Train', ascending=False), 2)"
   ]
  },
  {
   "cell_type": "code",
   "execution_count": 24,
   "metadata": {
    "colab": {},
    "colab_type": "code",
    "executionInfo": {
     "elapsed": 15810,
     "status": "ok",
     "timestamp": 1600238290567,
     "user": {
      "displayName": "Abdillah Fikri",
      "photoUrl": "",
      "userId": "04470220666512949031"
     },
     "user_tz": -420
    },
    "id": "eOqJW0_CJ3-f"
   },
   "outputs": [],
   "source": [
    "imputer = SimpleImputer(strategy='most_frequent')\n",
    "X['education'] =  imputer.fit_transform(X['education'].values.reshape(-1, 1))\n",
    "X_test['education'] =  imputer.transform(X_test['education'].values.reshape(-1, 1))"
   ]
  },
  {
   "cell_type": "code",
   "execution_count": 25,
   "metadata": {
    "colab": {},
    "colab_type": "code",
    "executionInfo": {
     "elapsed": 15803,
     "status": "ok",
     "timestamp": 1600238290568,
     "user": {
      "displayName": "Abdillah Fikri",
      "photoUrl": "",
      "userId": "04470220666512949031"
     },
     "user_tz": -420
    },
    "id": "XB9KHD_GJ3-h"
   },
   "outputs": [],
   "source": [
    "X['previous_year_rating'] =  imputer.fit_transform(X['previous_year_rating'].values.reshape(-1, 1))\n",
    "X_test['previous_year_rating'] =  imputer.transform(X_test['previous_year_rating'].values.reshape(-1, 1))"
   ]
  },
  {
   "cell_type": "code",
   "execution_count": 26,
   "metadata": {
    "colab": {
     "base_uri": "https://localhost:8080/",
     "height": 0
    },
    "colab_type": "code",
    "executionInfo": {
     "elapsed": 15795,
     "status": "ok",
     "timestamp": 1600238290569,
     "user": {
      "displayName": "Abdillah Fikri",
      "photoUrl": "",
      "userId": "04470220666512949031"
     },
     "user_tz": -420
    },
    "id": "n-MetUc6J3-k",
    "outputId": "2aebf875-60a5-4fda-f68a-ee6a47ff82b4"
   },
   "outputs": [
    {
     "data": {
      "text/html": [
       "<div>\n",
       "<style scoped>\n",
       "    .dataframe tbody tr th:only-of-type {\n",
       "        vertical-align: middle;\n",
       "    }\n",
       "\n",
       "    .dataframe tbody tr th {\n",
       "        vertical-align: top;\n",
       "    }\n",
       "\n",
       "    .dataframe thead th {\n",
       "        text-align: right;\n",
       "    }\n",
       "</style>\n",
       "<table border=\"1\" class=\"dataframe\">\n",
       "  <thead>\n",
       "    <tr style=\"text-align: right;\">\n",
       "      <th></th>\n",
       "      <th>NA Train</th>\n",
       "      <th>NA Test</th>\n",
       "    </tr>\n",
       "  </thead>\n",
       "  <tbody>\n",
       "    <tr>\n",
       "      <th>department</th>\n",
       "      <td>0.0</td>\n",
       "      <td>0.0</td>\n",
       "    </tr>\n",
       "    <tr>\n",
       "      <th>region</th>\n",
       "      <td>0.0</td>\n",
       "      <td>0.0</td>\n",
       "    </tr>\n",
       "    <tr>\n",
       "      <th>education</th>\n",
       "      <td>0.0</td>\n",
       "      <td>0.0</td>\n",
       "    </tr>\n",
       "    <tr>\n",
       "      <th>gender</th>\n",
       "      <td>0.0</td>\n",
       "      <td>0.0</td>\n",
       "    </tr>\n",
       "    <tr>\n",
       "      <th>recruitment_channel</th>\n",
       "      <td>0.0</td>\n",
       "      <td>0.0</td>\n",
       "    </tr>\n",
       "    <tr>\n",
       "      <th>no_of_trainings</th>\n",
       "      <td>0.0</td>\n",
       "      <td>0.0</td>\n",
       "    </tr>\n",
       "    <tr>\n",
       "      <th>age</th>\n",
       "      <td>0.0</td>\n",
       "      <td>0.0</td>\n",
       "    </tr>\n",
       "    <tr>\n",
       "      <th>previous_year_rating</th>\n",
       "      <td>0.0</td>\n",
       "      <td>0.0</td>\n",
       "    </tr>\n",
       "    <tr>\n",
       "      <th>length_of_service</th>\n",
       "      <td>0.0</td>\n",
       "      <td>0.0</td>\n",
       "    </tr>\n",
       "    <tr>\n",
       "      <th>KPIs_met &gt;80%</th>\n",
       "      <td>0.0</td>\n",
       "      <td>0.0</td>\n",
       "    </tr>\n",
       "    <tr>\n",
       "      <th>awards_won?</th>\n",
       "      <td>0.0</td>\n",
       "      <td>0.0</td>\n",
       "    </tr>\n",
       "    <tr>\n",
       "      <th>avg_training_score</th>\n",
       "      <td>0.0</td>\n",
       "      <td>0.0</td>\n",
       "    </tr>\n",
       "  </tbody>\n",
       "</table>\n",
       "</div>"
      ],
      "text/plain": [
       "                      NA Train  NA Test\n",
       "department                 0.0      0.0\n",
       "region                     0.0      0.0\n",
       "education                  0.0      0.0\n",
       "gender                     0.0      0.0\n",
       "recruitment_channel        0.0      0.0\n",
       "no_of_trainings            0.0      0.0\n",
       "age                        0.0      0.0\n",
       "previous_year_rating       0.0      0.0\n",
       "length_of_service          0.0      0.0\n",
       "KPIs_met >80%              0.0      0.0\n",
       "awards_won?                0.0      0.0\n",
       "avg_training_score         0.0      0.0"
      ]
     },
     "execution_count": 26,
     "metadata": {
      "tags": []
     },
     "output_type": "execute_result"
    }
   ],
   "source": [
    "na_col = pd.DataFrame(X.isna().sum()) / X.shape[0]*100\n",
    "na_col.columns = ['NA Train']\n",
    "na_col['NA Test'] = X_test.isna().sum().values / X_test.shape[0]*100\n",
    "round(na_col.sort_values(by='NA Train', ascending=False), 2)"
   ]
  },
  {
   "cell_type": "markdown",
   "metadata": {
    "colab_type": "text",
    "id": "TWWaJ_w5J3-q"
   },
   "source": [
    "## Categorical Encoding"
   ]
  },
  {
   "cell_type": "code",
   "execution_count": 27,
   "metadata": {
    "colab": {},
    "colab_type": "code",
    "executionInfo": {
     "elapsed": 15786,
     "status": "ok",
     "timestamp": 1600238290570,
     "user": {
      "displayName": "Abdillah Fikri",
      "photoUrl": "",
      "userId": "04470220666512949031"
     },
     "user_tz": -420
    },
    "id": "CcB-Lcj8J3-r"
   },
   "outputs": [],
   "source": [
    "edu_map = {'Below Secondary': 1, 'Bachelor\\'s': 2, 'Master\\'s & above': 3}\n",
    "gen_map = {'f': 0, 'm': 1}\n",
    "\n",
    "for col, mapping in zip(['education', 'gender'], [edu_map, gen_map]):\n",
    "    X[col] = X[col].map(mapping)\n",
    "    X_test[col] = X_test[col].map(mapping)"
   ]
  },
  {
   "cell_type": "code",
   "execution_count": 28,
   "metadata": {
    "colab": {
     "base_uri": "https://localhost:8080/",
     "height": 0
    },
    "colab_type": "code",
    "executionInfo": {
     "elapsed": 15777,
     "status": "ok",
     "timestamp": 1600238290571,
     "user": {
      "displayName": "Abdillah Fikri",
      "photoUrl": "",
      "userId": "04470220666512949031"
     },
     "user_tz": -420
    },
    "id": "9qw3-KZnJ3-v",
    "outputId": "118c6bfb-2e05-4710-e199-9fd4fa098caf"
   },
   "outputs": [
    {
     "name": "stderr",
     "output_type": "stream",
     "text": [
      "/usr/local/lib/python3.6/dist-packages/statsmodels/tools/_testing.py:19: FutureWarning: pandas.util.testing is deprecated. Use the functions in the public API at pandas.testing instead.\n",
      "  import pandas.util.testing as tm\n"
     ]
    }
   ],
   "source": [
    "import category_encoders as ce\n",
    "onehot = ce.OneHotEncoder(cols=[col for col in X.columns if X[col].dtype == 'object'], use_cat_names=True)"
   ]
  },
  {
   "cell_type": "code",
   "execution_count": 29,
   "metadata": {
    "colab": {},
    "colab_type": "code",
    "executionInfo": {
     "elapsed": 15766,
     "status": "ok",
     "timestamp": 1600238290571,
     "user": {
      "displayName": "Abdillah Fikri",
      "photoUrl": "",
      "userId": "04470220666512949031"
     },
     "user_tz": -420
    },
    "id": "F1LJ3LNhJ3-y"
   },
   "outputs": [],
   "source": [
    "X = onehot.fit_transform(X)\n",
    "X_test = onehot.transform(X_test)"
   ]
  },
  {
   "cell_type": "code",
   "execution_count": 30,
   "metadata": {
    "colab": {
     "base_uri": "https://localhost:8080/",
     "height": 0
    },
    "colab_type": "code",
    "executionInfo": {
     "elapsed": 16380,
     "status": "ok",
     "timestamp": 1600238291198,
     "user": {
      "displayName": "Abdillah Fikri",
      "photoUrl": "",
      "userId": "04470220666512949031"
     },
     "user_tz": -420
    },
    "id": "sfGAL3u8J3-0",
    "outputId": "32886cd2-9f38-47a2-e078-45cc8f1d2443"
   },
   "outputs": [
    {
     "data": {
      "text/html": [
       "<div>\n",
       "<style scoped>\n",
       "    .dataframe tbody tr th:only-of-type {\n",
       "        vertical-align: middle;\n",
       "    }\n",
       "\n",
       "    .dataframe tbody tr th {\n",
       "        vertical-align: top;\n",
       "    }\n",
       "\n",
       "    .dataframe thead th {\n",
       "        text-align: right;\n",
       "    }\n",
       "</style>\n",
       "<table border=\"1\" class=\"dataframe\">\n",
       "  <thead>\n",
       "    <tr style=\"text-align: right;\">\n",
       "      <th></th>\n",
       "      <th>department_Sales &amp; Marketing</th>\n",
       "      <th>department_Operations</th>\n",
       "      <th>department_Technology</th>\n",
       "      <th>department_Analytics</th>\n",
       "      <th>department_R&amp;D</th>\n",
       "      <th>department_Procurement</th>\n",
       "      <th>department_Finance</th>\n",
       "      <th>department_HR</th>\n",
       "      <th>department_Legal</th>\n",
       "      <th>region_region_7</th>\n",
       "      <th>region_region_22</th>\n",
       "      <th>region_region_19</th>\n",
       "      <th>region_region_23</th>\n",
       "      <th>region_region_26</th>\n",
       "      <th>region_region_2</th>\n",
       "      <th>region_region_20</th>\n",
       "      <th>region_region_34</th>\n",
       "      <th>region_region_1</th>\n",
       "      <th>region_region_4</th>\n",
       "      <th>region_region_29</th>\n",
       "      <th>region_region_31</th>\n",
       "      <th>region_region_15</th>\n",
       "      <th>region_region_14</th>\n",
       "      <th>region_region_11</th>\n",
       "      <th>region_region_5</th>\n",
       "      <th>region_region_28</th>\n",
       "      <th>region_region_17</th>\n",
       "      <th>region_region_13</th>\n",
       "      <th>region_region_16</th>\n",
       "      <th>region_region_25</th>\n",
       "      <th>region_region_10</th>\n",
       "      <th>region_region_27</th>\n",
       "      <th>region_region_30</th>\n",
       "      <th>region_region_12</th>\n",
       "      <th>region_region_21</th>\n",
       "      <th>region_region_8</th>\n",
       "      <th>region_region_32</th>\n",
       "      <th>region_region_6</th>\n",
       "      <th>region_region_33</th>\n",
       "      <th>region_region_24</th>\n",
       "      <th>region_region_3</th>\n",
       "      <th>region_region_9</th>\n",
       "      <th>region_region_18</th>\n",
       "      <th>education</th>\n",
       "      <th>gender</th>\n",
       "      <th>recruitment_channel_sourcing</th>\n",
       "      <th>recruitment_channel_other</th>\n",
       "      <th>recruitment_channel_referred</th>\n",
       "      <th>no_of_trainings</th>\n",
       "      <th>age</th>\n",
       "      <th>previous_year_rating</th>\n",
       "      <th>length_of_service</th>\n",
       "      <th>KPIs_met &gt;80%</th>\n",
       "      <th>awards_won?</th>\n",
       "      <th>avg_training_score</th>\n",
       "    </tr>\n",
       "  </thead>\n",
       "  <tbody>\n",
       "    <tr>\n",
       "      <th>0</th>\n",
       "      <td>1</td>\n",
       "      <td>0</td>\n",
       "      <td>0</td>\n",
       "      <td>0</td>\n",
       "      <td>0</td>\n",
       "      <td>0</td>\n",
       "      <td>0</td>\n",
       "      <td>0</td>\n",
       "      <td>0</td>\n",
       "      <td>1</td>\n",
       "      <td>0</td>\n",
       "      <td>0</td>\n",
       "      <td>0</td>\n",
       "      <td>0</td>\n",
       "      <td>0</td>\n",
       "      <td>0</td>\n",
       "      <td>0</td>\n",
       "      <td>0</td>\n",
       "      <td>0</td>\n",
       "      <td>0</td>\n",
       "      <td>0</td>\n",
       "      <td>0</td>\n",
       "      <td>0</td>\n",
       "      <td>0</td>\n",
       "      <td>0</td>\n",
       "      <td>0</td>\n",
       "      <td>0</td>\n",
       "      <td>0</td>\n",
       "      <td>0</td>\n",
       "      <td>0</td>\n",
       "      <td>0</td>\n",
       "      <td>0</td>\n",
       "      <td>0</td>\n",
       "      <td>0</td>\n",
       "      <td>0</td>\n",
       "      <td>0</td>\n",
       "      <td>0</td>\n",
       "      <td>0</td>\n",
       "      <td>0</td>\n",
       "      <td>0</td>\n",
       "      <td>0</td>\n",
       "      <td>0</td>\n",
       "      <td>0</td>\n",
       "      <td>3</td>\n",
       "      <td>0</td>\n",
       "      <td>1</td>\n",
       "      <td>0</td>\n",
       "      <td>0</td>\n",
       "      <td>1</td>\n",
       "      <td>35</td>\n",
       "      <td>5.0</td>\n",
       "      <td>8</td>\n",
       "      <td>1</td>\n",
       "      <td>0</td>\n",
       "      <td>49</td>\n",
       "    </tr>\n",
       "    <tr>\n",
       "      <th>1</th>\n",
       "      <td>0</td>\n",
       "      <td>1</td>\n",
       "      <td>0</td>\n",
       "      <td>0</td>\n",
       "      <td>0</td>\n",
       "      <td>0</td>\n",
       "      <td>0</td>\n",
       "      <td>0</td>\n",
       "      <td>0</td>\n",
       "      <td>0</td>\n",
       "      <td>1</td>\n",
       "      <td>0</td>\n",
       "      <td>0</td>\n",
       "      <td>0</td>\n",
       "      <td>0</td>\n",
       "      <td>0</td>\n",
       "      <td>0</td>\n",
       "      <td>0</td>\n",
       "      <td>0</td>\n",
       "      <td>0</td>\n",
       "      <td>0</td>\n",
       "      <td>0</td>\n",
       "      <td>0</td>\n",
       "      <td>0</td>\n",
       "      <td>0</td>\n",
       "      <td>0</td>\n",
       "      <td>0</td>\n",
       "      <td>0</td>\n",
       "      <td>0</td>\n",
       "      <td>0</td>\n",
       "      <td>0</td>\n",
       "      <td>0</td>\n",
       "      <td>0</td>\n",
       "      <td>0</td>\n",
       "      <td>0</td>\n",
       "      <td>0</td>\n",
       "      <td>0</td>\n",
       "      <td>0</td>\n",
       "      <td>0</td>\n",
       "      <td>0</td>\n",
       "      <td>0</td>\n",
       "      <td>0</td>\n",
       "      <td>0</td>\n",
       "      <td>2</td>\n",
       "      <td>1</td>\n",
       "      <td>0</td>\n",
       "      <td>1</td>\n",
       "      <td>0</td>\n",
       "      <td>1</td>\n",
       "      <td>30</td>\n",
       "      <td>5.0</td>\n",
       "      <td>4</td>\n",
       "      <td>0</td>\n",
       "      <td>0</td>\n",
       "      <td>60</td>\n",
       "    </tr>\n",
       "    <tr>\n",
       "      <th>2</th>\n",
       "      <td>1</td>\n",
       "      <td>0</td>\n",
       "      <td>0</td>\n",
       "      <td>0</td>\n",
       "      <td>0</td>\n",
       "      <td>0</td>\n",
       "      <td>0</td>\n",
       "      <td>0</td>\n",
       "      <td>0</td>\n",
       "      <td>0</td>\n",
       "      <td>0</td>\n",
       "      <td>1</td>\n",
       "      <td>0</td>\n",
       "      <td>0</td>\n",
       "      <td>0</td>\n",
       "      <td>0</td>\n",
       "      <td>0</td>\n",
       "      <td>0</td>\n",
       "      <td>0</td>\n",
       "      <td>0</td>\n",
       "      <td>0</td>\n",
       "      <td>0</td>\n",
       "      <td>0</td>\n",
       "      <td>0</td>\n",
       "      <td>0</td>\n",
       "      <td>0</td>\n",
       "      <td>0</td>\n",
       "      <td>0</td>\n",
       "      <td>0</td>\n",
       "      <td>0</td>\n",
       "      <td>0</td>\n",
       "      <td>0</td>\n",
       "      <td>0</td>\n",
       "      <td>0</td>\n",
       "      <td>0</td>\n",
       "      <td>0</td>\n",
       "      <td>0</td>\n",
       "      <td>0</td>\n",
       "      <td>0</td>\n",
       "      <td>0</td>\n",
       "      <td>0</td>\n",
       "      <td>0</td>\n",
       "      <td>0</td>\n",
       "      <td>2</td>\n",
       "      <td>1</td>\n",
       "      <td>1</td>\n",
       "      <td>0</td>\n",
       "      <td>0</td>\n",
       "      <td>1</td>\n",
       "      <td>34</td>\n",
       "      <td>3.0</td>\n",
       "      <td>7</td>\n",
       "      <td>0</td>\n",
       "      <td>0</td>\n",
       "      <td>50</td>\n",
       "    </tr>\n",
       "    <tr>\n",
       "      <th>3</th>\n",
       "      <td>1</td>\n",
       "      <td>0</td>\n",
       "      <td>0</td>\n",
       "      <td>0</td>\n",
       "      <td>0</td>\n",
       "      <td>0</td>\n",
       "      <td>0</td>\n",
       "      <td>0</td>\n",
       "      <td>0</td>\n",
       "      <td>0</td>\n",
       "      <td>0</td>\n",
       "      <td>0</td>\n",
       "      <td>1</td>\n",
       "      <td>0</td>\n",
       "      <td>0</td>\n",
       "      <td>0</td>\n",
       "      <td>0</td>\n",
       "      <td>0</td>\n",
       "      <td>0</td>\n",
       "      <td>0</td>\n",
       "      <td>0</td>\n",
       "      <td>0</td>\n",
       "      <td>0</td>\n",
       "      <td>0</td>\n",
       "      <td>0</td>\n",
       "      <td>0</td>\n",
       "      <td>0</td>\n",
       "      <td>0</td>\n",
       "      <td>0</td>\n",
       "      <td>0</td>\n",
       "      <td>0</td>\n",
       "      <td>0</td>\n",
       "      <td>0</td>\n",
       "      <td>0</td>\n",
       "      <td>0</td>\n",
       "      <td>0</td>\n",
       "      <td>0</td>\n",
       "      <td>0</td>\n",
       "      <td>0</td>\n",
       "      <td>0</td>\n",
       "      <td>0</td>\n",
       "      <td>0</td>\n",
       "      <td>0</td>\n",
       "      <td>2</td>\n",
       "      <td>1</td>\n",
       "      <td>0</td>\n",
       "      <td>1</td>\n",
       "      <td>0</td>\n",
       "      <td>2</td>\n",
       "      <td>39</td>\n",
       "      <td>1.0</td>\n",
       "      <td>10</td>\n",
       "      <td>0</td>\n",
       "      <td>0</td>\n",
       "      <td>50</td>\n",
       "    </tr>\n",
       "    <tr>\n",
       "      <th>4</th>\n",
       "      <td>0</td>\n",
       "      <td>0</td>\n",
       "      <td>1</td>\n",
       "      <td>0</td>\n",
       "      <td>0</td>\n",
       "      <td>0</td>\n",
       "      <td>0</td>\n",
       "      <td>0</td>\n",
       "      <td>0</td>\n",
       "      <td>0</td>\n",
       "      <td>0</td>\n",
       "      <td>0</td>\n",
       "      <td>0</td>\n",
       "      <td>1</td>\n",
       "      <td>0</td>\n",
       "      <td>0</td>\n",
       "      <td>0</td>\n",
       "      <td>0</td>\n",
       "      <td>0</td>\n",
       "      <td>0</td>\n",
       "      <td>0</td>\n",
       "      <td>0</td>\n",
       "      <td>0</td>\n",
       "      <td>0</td>\n",
       "      <td>0</td>\n",
       "      <td>0</td>\n",
       "      <td>0</td>\n",
       "      <td>0</td>\n",
       "      <td>0</td>\n",
       "      <td>0</td>\n",
       "      <td>0</td>\n",
       "      <td>0</td>\n",
       "      <td>0</td>\n",
       "      <td>0</td>\n",
       "      <td>0</td>\n",
       "      <td>0</td>\n",
       "      <td>0</td>\n",
       "      <td>0</td>\n",
       "      <td>0</td>\n",
       "      <td>0</td>\n",
       "      <td>0</td>\n",
       "      <td>0</td>\n",
       "      <td>0</td>\n",
       "      <td>2</td>\n",
       "      <td>1</td>\n",
       "      <td>0</td>\n",
       "      <td>1</td>\n",
       "      <td>0</td>\n",
       "      <td>1</td>\n",
       "      <td>45</td>\n",
       "      <td>3.0</td>\n",
       "      <td>2</td>\n",
       "      <td>0</td>\n",
       "      <td>0</td>\n",
       "      <td>73</td>\n",
       "    </tr>\n",
       "  </tbody>\n",
       "</table>\n",
       "</div>"
      ],
      "text/plain": [
       "   department_Sales & Marketing  ...  avg_training_score\n",
       "0                             1  ...                  49\n",
       "1                             0  ...                  60\n",
       "2                             1  ...                  50\n",
       "3                             1  ...                  50\n",
       "4                             0  ...                  73\n",
       "\n",
       "[5 rows x 55 columns]"
      ]
     },
     "execution_count": 30,
     "metadata": {
      "tags": []
     },
     "output_type": "execute_result"
    }
   ],
   "source": [
    "X.head()"
   ]
  },
  {
   "cell_type": "code",
   "execution_count": 31,
   "metadata": {
    "colab": {
     "base_uri": "https://localhost:8080/",
     "height": 0
    },
    "colab_type": "code",
    "executionInfo": {
     "elapsed": 16373,
     "status": "ok",
     "timestamp": 1600238291200,
     "user": {
      "displayName": "Abdillah Fikri",
      "photoUrl": "",
      "userId": "04470220666512949031"
     },
     "user_tz": -420
    },
    "id": "ELP_SqRLJ3-3",
    "outputId": "c425e24f-1a59-4002-941e-7296b3197540"
   },
   "outputs": [
    {
     "data": {
      "text/plain": [
       "((54808, 55), (23490, 55))"
      ]
     },
     "execution_count": 31,
     "metadata": {
      "tags": []
     },
     "output_type": "execute_result"
    }
   ],
   "source": [
    "X.shape, X_test.shape"
   ]
  },
  {
   "cell_type": "markdown",
   "metadata": {
    "colab_type": "text",
    "id": "XaE0Pr5tJ3-7"
   },
   "source": [
    "# Modeling"
   ]
  },
  {
   "cell_type": "code",
   "execution_count": 32,
   "metadata": {
    "colab": {},
    "colab_type": "code",
    "executionInfo": {
     "elapsed": 16362,
     "status": "ok",
     "timestamp": 1600238291202,
     "user": {
      "displayName": "Abdillah Fikri",
      "photoUrl": "",
      "userId": "04470220666512949031"
     },
     "user_tz": -420
    },
    "id": "XFKww0_jJ3-7"
   },
   "outputs": [],
   "source": [
    "from sklearn.model_selection import GridSearchCV, cross_val_score\n",
    "from sklearn import metrics\n",
    "from xgboost import XGBClassifier"
   ]
  },
  {
   "cell_type": "code",
   "execution_count": 33,
   "metadata": {
    "colab": {},
    "colab_type": "code",
    "executionInfo": {
     "elapsed": 16354,
     "status": "ok",
     "timestamp": 1600238291204,
     "user": {
      "displayName": "Abdillah Fikri",
      "photoUrl": "",
      "userId": "04470220666512949031"
     },
     "user_tz": -420
    },
    "id": "G3m8MseIJ3--"
   },
   "outputs": [],
   "source": [
    "def model_eval(model, X, y, scoring_='roc_auc', cv_=5):\n",
    "    #Fit the algorithm on the data\n",
    "    model.fit(X, y)\n",
    "        \n",
    "    #Predict training set:\n",
    "    pred = model.predict(X)\n",
    "    predprob = model.predict_proba(X)[:,1]\n",
    "\n",
    "    cv_score = cross_val_score(model, X, y, cv=cv_, scoring=scoring_)\n",
    "    \n",
    "    #Print model report:\n",
    "    print(\"\\nModel Report\")\n",
    "    print(\"Accuracy : %.4g\" % metrics.accuracy_score(y.values, pred))\n",
    "    print(\"AUC Score (Train): %f\" % metrics.roc_auc_score(y.values, predprob))\n",
    "    \n",
    "    print(\"CV Score : Mean - %.7g | Std - %.7g | Min - %.7g | Max - %.7g\" % (np.mean(cv_score),np.std(cv_score),np.min(cv_score),np.max(cv_score)))"
   ]
  },
  {
   "cell_type": "code",
   "execution_count": 34,
   "metadata": {
    "colab": {
     "base_uri": "https://localhost:8080/",
     "height": 102
    },
    "colab_type": "code",
    "executionInfo": {
     "elapsed": 18857,
     "status": "ok",
     "timestamp": 1600238293722,
     "user": {
      "displayName": "Abdillah Fikri",
      "photoUrl": "",
      "userId": "04470220666512949031"
     },
     "user_tz": -420
    },
    "id": "nAGVdkWnJ3_B",
    "outputId": "819fb33a-99d4-4395-9e24-f204e29ae518",
    "tags": []
   },
   "outputs": [
    {
     "name": "stdout",
     "output_type": "stream",
     "text": [
      "\n",
      "Model Report\n",
      "Accuracy : 0.9363\n",
      "AUC Score (Train): 0.905823\n",
      "CV Score : Mean - 0.9012743 | Std - 0.004543826 | Min - 0.8971417 | Max - 0.9084828\n"
     ]
    }
   ],
   "source": [
    "base_model = XGBClassifier(seed=14, tree_method='gpu_hist')\n",
    "model_eval(base_model, X, y)"
   ]
  },
  {
   "cell_type": "code",
   "execution_count": null,
   "metadata": {
    "colab": {},
    "colab_type": "code",
    "id": "rb4HEZWqJ3_E",
    "outputId": "0ec6ad4f-1ee5-4385-fc2e-3537fde8e95b"
   },
   "outputs": [
    {
     "data": {
      "text/plain": [
       "({'n_estimators': 100}, 0.9098172198821288)"
      ]
     },
     "execution_count": 59,
     "metadata": {
      "tags": []
     },
     "output_type": "execute_result"
    }
   ],
   "source": [
    "# Step 1: Get initial fix learning_rate and n_estimators\n",
    "test1 = {'n_estimators':range(20,101,10)}\n",
    "grid1 = GridSearchCV(estimator = XGBClassifier(learning_rate =0.1, \n",
    "                                               max_depth=5, \n",
    "                                               min_child_weight=1, \n",
    "                                               gamma=0, \n",
    "                                               subsample=0.8, \n",
    "                                               colsample_bytree=0.8,\n",
    "                                               objective= 'binary:logistic', \n",
    "                                               scale_pos_weight=1, \n",
    "                                               seed=14), \n",
    "                                               param_grid = test1, \n",
    "                                               scoring='roc_auc',\n",
    "                                               n_jobs=-1,iid=False, cv=5)\n",
    "grid1.fit(X, y)\n",
    "grid1.best_params_, grid1.best_score_"
   ]
  },
  {
   "cell_type": "code",
   "execution_count": null,
   "metadata": {
    "colab": {},
    "colab_type": "code",
    "id": "f1P87mU3J3_H",
    "outputId": "0c54c988-e298-4510-90c8-dcf31a30831d",
    "tags": []
   },
   "outputs": [
    {
     "data": {
      "text/plain": [
       "({'max_depth': 7, 'min_child_weight': 3}, 0.9099503160603)"
      ]
     },
     "execution_count": 62,
     "metadata": {
      "tags": []
     },
     "output_type": "execute_result"
    }
   ],
   "source": [
    "# Step 2: Tune max_depth and min_child_weight\n",
    "test2 = {'max_depth': range(3,10,2),\n",
    "         'min_child_weight': range(1,6,2)}\n",
    "grid2 = GridSearchCV(estimator = XGBClassifier(learning_rate=0.1,\n",
    "                                               n_estimators=100,\n",
    "                                               max_depth=5, \n",
    "                                               min_child_weight=1, \n",
    "                                               gamma=0, \n",
    "                                               subsample=0.8, \n",
    "                                               colsample_bytree=0.8,\n",
    "                                               objective= 'binary:logistic', \n",
    "                                               scale_pos_weight=1, \n",
    "                                               seed=14), \n",
    "                                               param_grid = test2, \n",
    "                                               scoring='roc_auc',\n",
    "                                               n_jobs=-1,iid=False, cv=5)\n",
    "grid2.fit(X, y)\n",
    "grid2.best_params_, grid2.best_score_"
   ]
  },
  {
   "cell_type": "code",
   "execution_count": null,
   "metadata": {
    "colab": {},
    "colab_type": "code",
    "id": "WPSbHLsaJ3_J",
    "outputId": "4d5eccea-5109-4149-bbf5-8c9ad55447d1"
   },
   "outputs": [
    {
     "data": {
      "text/plain": [
       "({'max_depth': 7, 'min_child_weight': 4}, 0.9103074175781263)"
      ]
     },
     "execution_count": 63,
     "metadata": {
      "tags": []
     },
     "output_type": "execute_result"
    }
   ],
   "source": [
    "# Step 2b: Tune max_depth and min_child_weight\n",
    "test2 = {'max_depth': [6,7,8],\n",
    "         'min_child_weight': [2,3,4]}\n",
    "grid2 = GridSearchCV(estimator = XGBClassifier(learning_rate=0.1,\n",
    "                                               n_estimators=100,\n",
    "                                               max_depth=5, \n",
    "                                               min_child_weight=1, \n",
    "                                               gamma=0, \n",
    "                                               subsample=0.8, \n",
    "                                               colsample_bytree=0.8,\n",
    "                                               objective= 'binary:logistic', \n",
    "                                               scale_pos_weight=1, \n",
    "                                               seed=14), \n",
    "                                               param_grid = test2, \n",
    "                                               scoring='roc_auc',\n",
    "                                               n_jobs=-1,iid=False, cv=5)\n",
    "grid2.fit(X, y)\n",
    "grid2.best_params_, grid2.best_score_"
   ]
  },
  {
   "cell_type": "code",
   "execution_count": null,
   "metadata": {
    "colab": {},
    "colab_type": "code",
    "id": "zpgAr6mdJ3_M",
    "outputId": "1efe51c0-1901-433a-e075-4638b219bd6d"
   },
   "outputs": [
    {
     "data": {
      "text/plain": [
       "({'gamma': 0.0}, 0.9103074175781263)"
      ]
     },
     "execution_count": 65,
     "metadata": {
      "tags": []
     },
     "output_type": "execute_result"
    }
   ],
   "source": [
    "# Step 3: Tune gamma\n",
    "test3 = {'gamma': [i/10.0 for i in range(0,5)]}\n",
    "grid3 = GridSearchCV(estimator = XGBClassifier(learning_rate=0.1,\n",
    "                                               n_estimators=100,\n",
    "                                               max_depth=7, \n",
    "                                               min_child_weight=4, \n",
    "                                               gamma=0, \n",
    "                                               subsample=0.8, \n",
    "                                               colsample_bytree=0.8,\n",
    "                                               objective= 'binary:logistic', \n",
    "                                               scale_pos_weight=1, \n",
    "                                               seed=14), \n",
    "                                               param_grid = test3, \n",
    "                                               scoring='roc_auc',\n",
    "                                               n_jobs=-1,iid=False, cv=5)\n",
    "grid3.fit(X, y)\n",
    "grid3.best_params_, grid3.best_score_"
   ]
  },
  {
   "cell_type": "code",
   "execution_count": null,
   "metadata": {
    "colab": {},
    "colab_type": "code",
    "id": "4zyAdYxwJ3_P",
    "outputId": "0e01f1a4-b788-47a4-913f-0e7f6a429f05"
   },
   "outputs": [
    {
     "data": {
      "text/plain": [
       "({'colsample_bytree': 0.6, 'subsample': 0.9}, 0.9105814218317058)"
      ]
     },
     "execution_count": 75,
     "metadata": {
      "tags": []
     },
     "output_type": "execute_result"
    }
   ],
   "source": [
    "# Step 4: Tune subsample and colsample_bytree\n",
    "test4 = {'subsample':[i/10.0 for i in range(6,10)],\n",
    "         'colsample_bytree':[i/10.0 for i in range(6,10)]}\n",
    "grid4 = GridSearchCV(estimator = XGBClassifier(learning_rate=0.1,\n",
    "                                               n_estimators=100,\n",
    "                                               max_depth=7, \n",
    "                                               min_child_weight=4, \n",
    "                                               gamma=0, \n",
    "                                               subsample=0.8, \n",
    "                                               colsample_bytree=0.8,\n",
    "                                               objective= 'binary:logistic', \n",
    "                                               scale_pos_weight=1, \n",
    "                                               seed=14), \n",
    "                                               param_grid = test4, \n",
    "                                               scoring='roc_auc',\n",
    "                                               n_jobs=-1,iid=False, cv=5)\n",
    "grid4.fit(X, y)\n",
    "grid4.best_params_, grid4.best_score_"
   ]
  },
  {
   "cell_type": "code",
   "execution_count": null,
   "metadata": {
    "colab": {},
    "colab_type": "code",
    "id": "KpaF8EJ3J3_S",
    "outputId": "08602290-0bc3-48e8-ef5a-781b532b8cf5"
   },
   "outputs": [
    {
     "data": {
      "text/plain": [
       "[0.1, 0.2, 0.3, 0.4, 0.5, 0.6, 0.7, 0.8, 0.9, 1.0]"
      ]
     },
     "execution_count": 1,
     "metadata": {
      "tags": []
     },
     "output_type": "execute_result"
    }
   ],
   "source": [
    "[i/10 for i in range(1,11)]"
   ]
  },
  {
   "cell_type": "code",
   "execution_count": null,
   "metadata": {
    "colab": {},
    "colab_type": "code",
    "id": "cjpYlTEbJ3_V",
    "outputId": "4ef470f0-74d1-48ca-b8be-8b3e29be4612"
   },
   "outputs": [
    {
     "data": {
      "text/plain": [
       "({'scale_pos_weight': 0.9}, 0.9107307473805311)"
      ]
     },
     "execution_count": 33,
     "metadata": {
      "tags": []
     },
     "output_type": "execute_result"
    }
   ],
   "source": [
    "# Step 5: Tuning scale_pos_weight\n",
    "test5 = {'scale_pos_weight': [i/10 for i in range(1,11)]}\n",
    "grid5 = GridSearchCV(estimator = XGBClassifier(learning_rate=0.1,\n",
    "                                               n_estimators=100,\n",
    "                                               max_depth=7, \n",
    "                                               min_child_weight=4, \n",
    "                                               gamma=0, \n",
    "                                               subsample=0.9, \n",
    "                                               colsample_bytree=0.6,\n",
    "                                               objective= 'binary:logistic', \n",
    "                                               scale_pos_weight=0.9, \n",
    "                                               seed=14), \n",
    "                                               param_grid = test5, \n",
    "                                               scoring='roc_auc',\n",
    "                                               n_jobs=-1,iid=False, cv=5)\n",
    "grid5.fit(X, y)\n",
    "grid5.best_params_, grid5.best_score_"
   ]
  },
  {
   "cell_type": "code",
   "execution_count": null,
   "metadata": {
    "colab": {},
    "colab_type": "code",
    "id": "eIZPSPWlJ3_Y",
    "outputId": "34d00046-c810-4e35-cffe-474f7f5cafb4"
   },
   "outputs": [
    {
     "data": {
      "text/plain": [
       "({'learning_rate': 0.05, 'n_estimators': 200}, 0.9111024776386725)"
      ]
     },
     "execution_count": 34,
     "metadata": {
      "tags": []
     },
     "output_type": "execute_result"
    }
   ],
   "source": [
    "# Step 6: Tuning n_estimators and learning_rate\n",
    "test6 = {'learning_rate': [0.05],\n",
    "         'n_estimators': range(200,1001,200)}\n",
    "grid6 = GridSearchCV(estimator = XGBClassifier(learning_rate=0.1,\n",
    "                                               n_estimators=100,\n",
    "                                               max_depth=7, \n",
    "                                               min_child_weight=4, \n",
    "                                               gamma=0, \n",
    "                                               subsample=0.9, \n",
    "                                               colsample_bytree=0.6,\n",
    "                                               objective= 'binary:logistic', \n",
    "                                               scale_pos_weight=0.9, \n",
    "                                               seed=14), \n",
    "                                               param_grid = test6, \n",
    "                                               scoring='roc_auc',\n",
    "                                               n_jobs=-1,iid=False, cv=5)\n",
    "grid6.fit(X, y)\n",
    "grid6.best_params_, grid6.best_score_"
   ]
  },
  {
   "cell_type": "code",
   "execution_count": 48,
   "metadata": {
    "colab": {
     "base_uri": "https://localhost:8080/",
     "height": 34
    },
    "colab_type": "code",
    "executionInfo": {
     "elapsed": 511663,
     "status": "ok",
     "timestamp": 1600246498809,
     "user": {
      "displayName": "Abdillah Fikri",
      "photoUrl": "",
      "userId": "04470220666512949031"
     },
     "user_tz": -420
    },
    "id": "26fTuEx6J3_g",
    "outputId": "956fe324-ccc8-42b0-9fd9-4b92cf51844b"
   },
   "outputs": [
    {
     "data": {
      "text/plain": [
       "({'learning_rate': 0.005, 'n_estimators': 2560}, 0.9119347280572894)"
      ]
     },
     "execution_count": 48,
     "metadata": {
      "tags": []
     },
     "output_type": "execute_result"
    }
   ],
   "source": [
    "# Step 6b: Tuning n_estimators and learning_rate\n",
    "test6 = {'learning_rate': [0.005],\n",
    "         'n_estimators': range(2550,2571,5)}\n",
    "grid6 = GridSearchCV(estimator = XGBClassifier(learning_rate=0.1,\n",
    "                                               n_estimators=100,\n",
    "                                               max_depth=7, \n",
    "                                               min_child_weight=4, \n",
    "                                               gamma=0,\n",
    "                                               subsample=0.9, \n",
    "                                               colsample_bytree=0.6,\n",
    "                                               objective= 'binary:logistic', \n",
    "                                               scale_pos_weight=0.9, \n",
    "                                               seed=14,\n",
    "                                               tree_method='gpu_hist'), \n",
    "                                               param_grid = test6, \n",
    "                                               scoring='roc_auc',\n",
    "                                               n_jobs=-1, cv=5)\n",
    "grid6.fit(X, y)\n",
    "grid6.best_params_, grid6.best_score_"
   ]
  },
  {
   "cell_type": "code",
   "execution_count": 38,
   "metadata": {
    "colab": {
     "base_uri": "https://localhost:8080/",
     "height": 102
    },
    "colab_type": "code",
    "executionInfo": {
     "elapsed": 39105,
     "status": "ok",
     "timestamp": 1600238429081,
     "user": {
      "displayName": "Abdillah Fikri",
      "photoUrl": "",
      "userId": "04470220666512949031"
     },
     "user_tz": -420
    },
    "id": "wQ4Na2AvM78W",
    "outputId": "076d2140-e6ca-4410-9f96-f8cc9704a67c"
   },
   "outputs": [
    {
     "name": "stdout",
     "output_type": "stream",
     "text": [
      "\n",
      "Model Report\n",
      "Accuracy : 0.9442\n",
      "AUC Score (Train): 0.939323\n",
      "CV Score : Mean - 0.9117947 | Std - 0.003375918 | Min - 0.9062813 | Max - 0.9160675\n"
     ]
    }
   ],
   "source": [
    "xgb_gpu_f1 = XGBClassifier(learning_rate=0.01,\n",
    "                           n_estimators=1250,\n",
    "                           max_depth=7, \n",
    "                           min_child_weight=4,\n",
    "                           gamma=0,\n",
    "                           subsample=0.9,\n",
    "                           colsample_bytree=0.6,\n",
    "                           objective= 'binary:logistic', \n",
    "                           scale_pos_weight=0.9,\n",
    "                           seed=14,\n",
    "                           tree_method='gpu_hist')\n",
    "model_eval(xgb_gpu_f1, X, y)"
   ]
  },
  {
   "cell_type": "code",
   "execution_count": 41,
   "metadata": {
    "colab": {
     "base_uri": "https://localhost:8080/",
     "height": 102
    },
    "colab_type": "code",
    "executionInfo": {
     "elapsed": 76444,
     "status": "ok",
     "timestamp": 1600241064100,
     "user": {
      "displayName": "Abdillah Fikri",
      "photoUrl": "",
      "userId": "04470220666512949031"
     },
     "user_tz": -420
    },
    "id": "fw6pik28J3_m",
    "outputId": "e82d9f25-112d-4386-f2fd-ea601fad0b7e",
    "tags": []
   },
   "outputs": [
    {
     "name": "stdout",
     "output_type": "stream",
     "text": [
      "\n",
      "Model Report\n",
      "Accuracy : 0.9442\n",
      "AUC Score (Train): 0.939570\n",
      "CV Score : Mean - 0.9119347 | Std - 0.003343688 | Min - 0.906385 | Max - 0.9161951\n"
     ]
    }
   ],
   "source": [
    "xgb_gpu_f2 = XGBClassifier(learning_rate=0.005,\n",
    "                           n_estimators=2560,\n",
    "                           max_depth=7, \n",
    "                           min_child_weight=4,\n",
    "                           gamma=0,\n",
    "                           subsample=0.9,\n",
    "                           colsample_bytree=0.6,\n",
    "                           objective= 'binary:logistic', \n",
    "                           scale_pos_weight=0.9,\n",
    "                           seed=14,\n",
    "                           tree_method='gpu_hist')\n",
    "model_eval(xgb_gpu_f2, X, y)"
   ]
  },
  {
   "cell_type": "code",
   "execution_count": 42,
   "metadata": {
    "colab": {},
    "colab_type": "code",
    "executionInfo": {
     "elapsed": 1242,
     "status": "ok",
     "timestamp": 1600241094248,
     "user": {
      "displayName": "Abdillah Fikri",
      "photoUrl": "",
      "userId": "04470220666512949031"
     },
     "user_tz": -420
    },
    "id": "NSvs4NQiJ3_q"
   },
   "outputs": [],
   "source": [
    "import xgboost as xgb"
   ]
  },
  {
   "cell_type": "code",
   "execution_count": 43,
   "metadata": {
    "colab": {
     "base_uri": "https://localhost:8080/",
     "height": 916
    },
    "colab_type": "code",
    "executionInfo": {
     "elapsed": 3179,
     "status": "ok",
     "timestamp": 1600241096986,
     "user": {
      "displayName": "Abdillah Fikri",
      "photoUrl": "",
      "userId": "04470220666512949031"
     },
     "user_tz": -420
    },
    "id": "5OFjfIqVJ3_t",
    "outputId": "86efc3e3-2aec-47d1-8924-b0e0caaa551c"
   },
   "outputs": [
    {
     "data": {
      "text/plain": [
       "<matplotlib.axes._subplots.AxesSubplot at 0x7fd37de860f0>"
      ]
     },
     "execution_count": 43,
     "metadata": {
      "tags": []
     },
     "output_type": "execute_result"
    },
    {
     "data": {
      "image/png": "[encoded data removed]",
      "text/plain": [
       "<Figure size 1440x1080 with 1 Axes>"
      ]
     },
     "metadata": {
      "needs_background": "light",
      "tags": []
     },
     "output_type": "display_data"
    }
   ],
   "source": [
    "plt.figure(figsize=(20,15))\n",
    "xgb.plot_importance(xgb_gpu_f2, ax=plt.gca())"
   ]
  },
  {
   "cell_type": "code",
   "execution_count": 44,
   "metadata": {
    "colab": {},
    "colab_type": "code",
    "executionInfo": {
     "elapsed": 1236,
     "status": "ok",
     "timestamp": 1600241113798,
     "user": {
      "displayName": "Abdillah Fikri",
      "photoUrl": "",
      "userId": "04470220666512949031"
     },
     "user_tz": -420
    },
    "id": "yXHQkTXqJ3_w"
   },
   "outputs": [],
   "source": [
    "pred_test = xgb_gpu_f2.predict(X_test)\n",
    "output = pd.DataFrame({'employee_id': test['employee_id'],\n",
    "                       'is_promoted': pred_test})\n",
    "output.to_csv('submission.csv', index=False)"
   ]
  },
  {
   "cell_type": "code",
   "execution_count": null,
   "metadata": {
    "colab": {},
    "colab_type": "code",
    "id": "uNAgDuVdJ3_y"
   },
   "outputs": [],
   "source": []
  }
 ],
 "metadata": {
  "accelerator": "GPU",
  "colab": {
   "collapsed_sections": [
    "-_CbGViAJ3-Y",
    "TWWaJ_w5J3-q"
   ],
   "name": "HR Analytics.ipynb",
   "provenance": [],
   "toc_visible": true
  },
  "jupytext": {
   "formats": "ipynb,py:percent"
  },
  "kernelspec": {
   "display_name": "Python 3.8.5 64-bit ('ds_env': conda)",
   "metadata": {
    "interpreter": {
     "hash": "9147bcb9e0785203a659ab3390718fd781c9994811db246717fd6ffdcf1dd807"
    }
   },
   "name": "Python 3.8.5 64-bit ('ds_env': conda)"
  },
  "language_info": {
   "codemirror_mode": {
    "name": "ipython",
    "version": 3
   },
   "file_extension": ".py",
   "mimetype": "text/x-python",
   "name": "python",
   "nbconvert_exporter": "python",
   "pygments_lexer": "ipython3",
   "version": "3.8.5-final"
  }
 },
 "nbformat": 4,
 "nbformat_minor": 0
}
